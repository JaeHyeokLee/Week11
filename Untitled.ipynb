{
 "cells": [
  {
   "cell_type": "code",
   "execution_count": 107,
   "metadata": {},
   "outputs": [
    {
     "name": "stdout",
     "output_type": "stream",
     "text": [
      "Epoch 1/1\n",
      "60000/60000 [==============================] - 84s 1ms/step - loss: 0.0138 - acc: 0.9115\n"
     ]
    }
   ],
   "source": [
    "# -*- coding: utf-8 -*-\n",
    "# 필요한 패키지를 로드합니다.\n",
    "import os\n",
    "os.environ['KERAS_BACKEND'] = 'theano'\n",
    "import numpy as np\n",
    "import numpy.random as nr\n",
    "from keras.models import Sequential, save_model\n",
    "from keras.layers.core import Dense, Activation, Dropout, Flatten\n",
    "from keras.layers.convolutional import Convolution2D, MaxPooling2D\n",
    "from keras.optimizers import Adam\n",
    "from keras.datasets import mnist\n",
    "from keras.utils import np_utils\n",
    "\n",
    "\n",
    "#아래의 Conv2D 함수의 인자인 input_shape 는 (samples, rows, cols, chennels) 의 4D Tensor 형태여야 하므로\n",
    "#Train data 를 모델에 넣기 위해서 (60000, 28, 28, 1) 의 4D Tensor 로 Reshape 해 줍니다.\n",
    "(x_train, y_train), (x_test, y_test) = mnist.load_data()\n",
    "x_train = x_train.reshape(x_train.shape[0], 28, 28, 1)\n",
    "#Train data 를 dloat 형태로 바꿔 줍니다.\n",
    "x_train = x_train.astype('float32')\n",
    "#255로 나눠 주어 pixel의 grayscale 값이 0에서 1 사이의 값을 가지게 해 줍니다.\n",
    "x_train /= 255\n",
    "#np.util에 있는 to_categorical은 주어진 레이블을 one-hot encoding 해 줍니다.\n",
    "y_train = np_utils.to_categorical(y_train, 10)\n",
    "\n",
    "if __name__ == '__main__':\n",
    "    # 모델 구성(2(input) -> CONV(ReLU) -> CONV(ReLU) -> FC(sigmoid))\n",
    "    model = Sequential()\n",
    "    #\n",
    "    model.add(Convolution2D(input_shape = (28, 28, 1), filters = 10, kernel_size = (3,3), strides = 1, padding = 'same'))\n",
    "    #Activation Function 으로 Relu를 사용하였습니다.\n",
    "    model.add(Activation('relu'))\n",
    "    model.add(Convolution2D(filters = 20, kernel_size = (3,3), strides = 1))\n",
    "    model.add(Activation('relu'))\n",
    "    #이미지의 차원을 줄이기 위해서 Pooling Layer를 넣었습니다.\n",
    "    model.add(MaxPooling2D(pool_size=(2, 2)))\n",
    "    #0.25의 확률의 Dropout 시행\n",
    "    model.add(Dropout(0.25))\n",
    "    #FC Layer에 넣기 위해서 2차원 배열로 되어 있는 이미지 인풋을 Flattern 해 줍니다.\n",
    "    model.add(Flatten())\n",
    "    #Output Node 가 128개인 FC Layer\n",
    "    model.add(Dense(128))\n",
    "    model.add(Activation('relu'))\n",
    "    #Output Node 가 10개인 FC Layer\n",
    "    model.add(Dense(10))\n",
    "    #Output 벡터의 합을 1로 만들어주기 위해서 softmax 함수를 사용했습니다.\n",
    "    model.add(Activation('softmax'))\n",
    "    # #Keras Documentation 을 참고하여 Adam Optimizer 를 이용하였습니다.\n",
    "    model.compile(loss='mean_squared_error', optimizer='adam', metrics = ['accuracy'])\n",
    "    #CNN 모델을 학습시킵니다.\n",
    "    model.fit(x_train,y_train , epochs=1, batch_size=200, verbose = 1)\n",
    "    #best parameter를 저장합니다.\n",
    "    save_model(model, 'best_param.h5')"
   ]
  }
 ],
 "metadata": {
  "kernelspec": {
   "display_name": "Python 3",
   "language": "python",
   "name": "python3"
  },
  "language_info": {
   "codemirror_mode": {
    "name": "ipython",
    "version": 3
   },
   "file_extension": ".py",
   "mimetype": "text/x-python",
   "name": "python",
   "nbconvert_exporter": "python",
   "pygments_lexer": "ipython3",
   "version": "3.6.3"
  }
 },
 "nbformat": 4,
 "nbformat_minor": 2
}
